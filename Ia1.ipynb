{
  "nbformat": 4,
  "nbformat_minor": 0,
  "metadata": {
    "colab": {
      "provenance": [],
      "authorship_tag": "ABX9TyNT7A3j1z3GpjZlYoHdvSQI",
      "include_colab_link": true
    },
    "kernelspec": {
      "name": "python3",
      "display_name": "Python 3"
    },
    "language_info": {
      "name": "python"
    }
  },
  "cells": [
    {
      "cell_type": "markdown",
      "metadata": {
        "id": "view-in-github",
        "colab_type": "text"
      },
      "source": [
        "<a href=\"https://colab.research.google.com/github/Sandrad100/portfolio/blob/main/Ia1.ipynb\" target=\"_parent\"><img src=\"https://colab.research.google.com/assets/colab-badge.svg\" alt=\"Open In Colab\"/></a>"
      ]
    },
    {
      "cell_type": "code",
      "execution_count": 1,
      "metadata": {
        "colab": {
          "base_uri": "https://localhost:8080/"
        },
        "id": "5i_wtlnYjVHh",
        "outputId": "7db0c42f-9912-4ff1-c9b6-7dc7c4460244"
      },
      "outputs": [
        {
          "output_type": "stream",
          "name": "stdout",
          "text": [
            "Soma: 45\n",
            "Módulo 5\n",
            "Quociente 3\n",
            "n1= 45\n",
            "n2= 175\n"
          ]
        }
      ],
      "source": [
        "n1=10\n",
        "n2=35\n",
        "#operadores aritmeticos\n",
        "soma = n1 + n2\n",
        "modulo = n2 % n1\n",
        "quociente = n2 // n1\n",
        "print(\"Soma:\", soma)\n",
        "print(\"Módulo\", modulo)\n",
        "print(\"Quociente\", quociente)\n",
        "#operadores de atribuicao\n",
        "n1+=n2 #n1 = n1 + n2\n",
        "n2*=5 #n2 = n2 *5\n",
        "print(f\"n1= {n1}\")\n",
        "print(f\"n2= {n2}\")"
      ]
    }
  ]
}